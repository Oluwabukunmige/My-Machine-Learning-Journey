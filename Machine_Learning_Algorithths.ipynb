{
  "nbformat": 4,
  "nbformat_minor": 0,
  "metadata": {
    "colab": {
      "name": "Machine Learning Algorithths",
      "version": "0.3.2",
      "provenance": [],
      "include_colab_link": true
    },
    "kernelspec": {
      "name": "python3",
      "display_name": "Python 3"
    },
    "accelerator": "GPU"
  },
  "cells": [
    {
      "cell_type": "markdown",
      "metadata": {
        "id": "view-in-github",
        "colab_type": "text"
      },
      "source": [
        "<a href=\"https://colab.research.google.com/github/Oluwabukunmige/My-Machine-Learning-Journey/blob/master/Machine_Learning_Algorithths.ipynb\" target=\"_parent\"><img src=\"https://colab.research.google.com/assets/colab-badge.svg\" alt=\"Open In Colab\"/></a>"
      ]
    },
    {
      "cell_type": "markdown",
      "metadata": {
        "id": "5JoDJkpNPPUm",
        "colab_type": "text"
      },
      "source": [
        "## Classification Problem"
      ]
    },
    {
      "cell_type": "code",
      "metadata": {
        "id": "oP8IS186uiDJ",
        "colab_type": "code",
        "outputId": "db7a634c-5e78-4d00-993d-1603d72c5f36",
        "colab": {
          "base_uri": "https://localhost:8080/",
          "height": 419
        }
      },
      "source": [
        "!pip install PyDrive"
      ],
      "execution_count": 0,
      "outputs": [
        {
          "output_type": "stream",
          "text": [
            "Collecting PyDrive\n",
            "\u001b[?25l  Downloading https://files.pythonhosted.org/packages/52/e0/0e64788e5dd58ce2d6934549676243dc69d982f198524be9b99e9c2a4fd5/PyDrive-1.3.1.tar.gz (987kB)\n",
            "\r\u001b[K     |▎                               | 10kB 16.4MB/s eta 0:00:01\r\u001b[K     |▋                               | 20kB 4.4MB/s eta 0:00:01\r\u001b[K     |█                               | 30kB 6.2MB/s eta 0:00:01\r\u001b[K     |█▎                              | 40kB 3.8MB/s eta 0:00:01\r\u001b[K     |█▋                              | 51kB 4.7MB/s eta 0:00:01\r\u001b[K     |██                              | 61kB 5.6MB/s eta 0:00:01\r\u001b[K     |██▎                             | 71kB 6.3MB/s eta 0:00:01\r\u001b[K     |██▋                             | 81kB 7.1MB/s eta 0:00:01\r\u001b[K     |███                             | 92kB 7.9MB/s eta 0:00:01\r\u001b[K     |███▎                            | 102kB 6.3MB/s eta 0:00:01\r\u001b[K     |███▋                            | 112kB 6.3MB/s eta 0:00:01\r\u001b[K     |████                            | 122kB 6.3MB/s eta 0:00:01\r\u001b[K     |████▎                           | 133kB 6.3MB/s eta 0:00:01\r\u001b[K     |████▋                           | 143kB 6.3MB/s eta 0:00:01\r\u001b[K     |█████                           | 153kB 6.3MB/s eta 0:00:01\r\u001b[K     |█████▎                          | 163kB 6.3MB/s eta 0:00:01\r\u001b[K     |█████▋                          | 174kB 6.3MB/s eta 0:00:01\r\u001b[K     |██████                          | 184kB 6.3MB/s eta 0:00:01\r\u001b[K     |██████▎                         | 194kB 6.3MB/s eta 0:00:01\r\u001b[K     |██████▋                         | 204kB 6.3MB/s eta 0:00:01\r\u001b[K     |███████                         | 215kB 6.3MB/s eta 0:00:01\r\u001b[K     |███████▎                        | 225kB 6.3MB/s eta 0:00:01\r\u001b[K     |███████▋                        | 235kB 6.3MB/s eta 0:00:01\r\u001b[K     |████████                        | 245kB 6.3MB/s eta 0:00:01\r\u001b[K     |████████▎                       | 256kB 6.3MB/s eta 0:00:01\r\u001b[K     |████████▋                       | 266kB 6.3MB/s eta 0:00:01\r\u001b[K     |█████████                       | 276kB 6.3MB/s eta 0:00:01\r\u001b[K     |█████████▎                      | 286kB 6.3MB/s eta 0:00:01\r\u001b[K     |█████████▋                      | 296kB 6.3MB/s eta 0:00:01\r\u001b[K     |██████████                      | 307kB 6.3MB/s eta 0:00:01\r\u001b[K     |██████████▎                     | 317kB 6.3MB/s eta 0:00:01\r\u001b[K     |██████████▋                     | 327kB 6.3MB/s eta 0:00:01\r\u001b[K     |███████████                     | 337kB 6.3MB/s eta 0:00:01\r\u001b[K     |███████████▎                    | 348kB 6.3MB/s eta 0:00:01\r\u001b[K     |███████████▋                    | 358kB 6.3MB/s eta 0:00:01\r\u001b[K     |████████████                    | 368kB 6.3MB/s eta 0:00:01\r\u001b[K     |████████████▎                   | 378kB 6.3MB/s eta 0:00:01\r\u001b[K     |████████████▋                   | 389kB 6.3MB/s eta 0:00:01\r\u001b[K     |█████████████                   | 399kB 6.3MB/s eta 0:00:01\r\u001b[K     |█████████████▎                  | 409kB 6.3MB/s eta 0:00:01\r\u001b[K     |█████████████▋                  | 419kB 6.3MB/s eta 0:00:01\r\u001b[K     |██████████████                  | 430kB 6.3MB/s eta 0:00:01\r\u001b[K     |██████████████▎                 | 440kB 6.3MB/s eta 0:00:01\r\u001b[K     |██████████████▋                 | 450kB 6.3MB/s eta 0:00:01\r\u001b[K     |███████████████                 | 460kB 6.3MB/s eta 0:00:01\r\u001b[K     |███████████████▎                | 471kB 6.3MB/s eta 0:00:01\r\u001b[K     |███████████████▋                | 481kB 6.3MB/s eta 0:00:01\r\u001b[K     |████████████████                | 491kB 6.3MB/s eta 0:00:01\r\u001b[K     |████████████████▎               | 501kB 6.3MB/s eta 0:00:01\r\u001b[K     |████████████████▋               | 512kB 6.3MB/s eta 0:00:01\r\u001b[K     |█████████████████               | 522kB 6.3MB/s eta 0:00:01\r\u001b[K     |█████████████████▎              | 532kB 6.3MB/s eta 0:00:01\r\u001b[K     |█████████████████▋              | 542kB 6.3MB/s eta 0:00:01\r\u001b[K     |██████████████████              | 552kB 6.3MB/s eta 0:00:01\r\u001b[K     |██████████████████▎             | 563kB 6.3MB/s eta 0:00:01\r\u001b[K     |██████████████████▋             | 573kB 6.3MB/s eta 0:00:01\r\u001b[K     |███████████████████             | 583kB 6.3MB/s eta 0:00:01\r\u001b[K     |███████████████████▎            | 593kB 6.3MB/s eta 0:00:01\r\u001b[K     |███████████████████▋            | 604kB 6.3MB/s eta 0:00:01\r\u001b[K     |████████████████████            | 614kB 6.3MB/s eta 0:00:01\r\u001b[K     |████████████████████▎           | 624kB 6.3MB/s eta 0:00:01\r\u001b[K     |████████████████████▋           | 634kB 6.3MB/s eta 0:00:01\r\u001b[K     |█████████████████████           | 645kB 6.3MB/s eta 0:00:01\r\u001b[K     |█████████████████████▎          | 655kB 6.3MB/s eta 0:00:01\r\u001b[K     |█████████████████████▋          | 665kB 6.3MB/s eta 0:00:01\r\u001b[K     |██████████████████████          | 675kB 6.3MB/s eta 0:00:01\r\u001b[K     |██████████████████████▎         | 686kB 6.3MB/s eta 0:00:01\r\u001b[K     |██████████████████████▋         | 696kB 6.3MB/s eta 0:00:01\r\u001b[K     |███████████████████████         | 706kB 6.3MB/s eta 0:00:01\r\u001b[K     |███████████████████████▎        | 716kB 6.3MB/s eta 0:00:01\r\u001b[K     |███████████████████████▋        | 727kB 6.3MB/s eta 0:00:01\r\u001b[K     |████████████████████████        | 737kB 6.3MB/s eta 0:00:01\r\u001b[K     |████████████████████████▎       | 747kB 6.3MB/s eta 0:00:01\r\u001b[K     |████████████████████████▋       | 757kB 6.3MB/s eta 0:00:01\r\u001b[K     |████████████████████████▉       | 768kB 6.3MB/s eta 0:00:01\r\u001b[K     |█████████████████████████▏      | 778kB 6.3MB/s eta 0:00:01\r\u001b[K     |█████████████████████████▌      | 788kB 6.3MB/s eta 0:00:01\r\u001b[K     |█████████████████████████▉      | 798kB 6.3MB/s eta 0:00:01\r\u001b[K     |██████████████████████████▏     | 808kB 6.3MB/s eta 0:00:01\r\u001b[K     |██████████████████████████▌     | 819kB 6.3MB/s eta 0:00:01\r\u001b[K     |██████████████████████████▉     | 829kB 6.3MB/s eta 0:00:01\r\u001b[K     |███████████████████████████▏    | 839kB 6.3MB/s eta 0:00:01\r\u001b[K     |███████████████████████████▌    | 849kB 6.3MB/s eta 0:00:01\r\u001b[K     |███████████████████████████▉    | 860kB 6.3MB/s eta 0:00:01\r\u001b[K     |████████████████████████████▏   | 870kB 6.3MB/s eta 0:00:01\r\u001b[K     |████████████████████████████▌   | 880kB 6.3MB/s eta 0:00:01\r\u001b[K     |████████████████████████████▉   | 890kB 6.3MB/s eta 0:00:01\r\u001b[K     |█████████████████████████████▏  | 901kB 6.3MB/s eta 0:00:01\r\u001b[K     |█████████████████████████████▌  | 911kB 6.3MB/s eta 0:00:01\r\u001b[K     |█████████████████████████████▉  | 921kB 6.3MB/s eta 0:00:01\r\u001b[K     |██████████████████████████████▏ | 931kB 6.3MB/s eta 0:00:01\r\u001b[K     |██████████████████████████████▌ | 942kB 6.3MB/s eta 0:00:01\r\u001b[K     |██████████████████████████████▉ | 952kB 6.3MB/s eta 0:00:01\r\u001b[K     |███████████████████████████████▏| 962kB 6.3MB/s eta 0:00:01\r\u001b[K     |███████████████████████████████▌| 972kB 6.3MB/s eta 0:00:01\r\u001b[K     |███████████████████████████████▉| 983kB 6.3MB/s eta 0:00:01\r\u001b[K     |████████████████████████████████| 993kB 6.3MB/s \n",
            "\u001b[?25hRequirement already satisfied: google-api-python-client>=1.2 in /usr/local/lib/python3.6/dist-packages (from PyDrive) (1.7.9)\n",
            "Requirement already satisfied: oauth2client>=4.0.0 in /usr/local/lib/python3.6/dist-packages (from PyDrive) (4.1.3)\n",
            "Requirement already satisfied: PyYAML>=3.0 in /usr/local/lib/python3.6/dist-packages (from PyDrive) (3.13)\n",
            "Requirement already satisfied: google-auth-httplib2>=0.0.3 in /usr/local/lib/python3.6/dist-packages (from google-api-python-client>=1.2->PyDrive) (0.0.3)\n",
            "Requirement already satisfied: google-auth>=1.4.1 in /usr/local/lib/python3.6/dist-packages (from google-api-python-client>=1.2->PyDrive) (1.4.2)\n",
            "Requirement already satisfied: six<2dev,>=1.6.1 in /usr/local/lib/python3.6/dist-packages (from google-api-python-client>=1.2->PyDrive) (1.12.0)\n",
            "Requirement already satisfied: httplib2<1dev,>=0.9.2 in /usr/local/lib/python3.6/dist-packages (from google-api-python-client>=1.2->PyDrive) (0.11.3)\n",
            "Requirement already satisfied: uritemplate<4dev,>=3.0.0 in /usr/local/lib/python3.6/dist-packages (from google-api-python-client>=1.2->PyDrive) (3.0.0)\n",
            "Requirement already satisfied: rsa>=3.1.4 in /usr/local/lib/python3.6/dist-packages (from oauth2client>=4.0.0->PyDrive) (4.0)\n",
            "Requirement already satisfied: pyasn1-modules>=0.0.5 in /usr/local/lib/python3.6/dist-packages (from oauth2client>=4.0.0->PyDrive) (0.2.5)\n",
            "Requirement already satisfied: pyasn1>=0.1.7 in /usr/local/lib/python3.6/dist-packages (from oauth2client>=4.0.0->PyDrive) (0.4.5)\n",
            "Requirement already satisfied: cachetools>=2.0.0 in /usr/local/lib/python3.6/dist-packages (from google-auth>=1.4.1->google-api-python-client>=1.2->PyDrive) (3.1.1)\n",
            "Building wheels for collected packages: PyDrive\n",
            "  Building wheel for PyDrive (setup.py) ... \u001b[?25l\u001b[?25hdone\n",
            "  Stored in directory: /root/.cache/pip/wheels/fa/d2/9a/d3b6b506c2da98289e5d417215ce34b696db856643bad779f4\n",
            "Successfully built PyDrive\n",
            "Installing collected packages: PyDrive\n",
            "Successfully installed PyDrive-1.3.1\n"
          ],
          "name": "stdout"
        }
      ]
    },
    {
      "cell_type": "code",
      "metadata": {
        "id": "GfB_GhCLvENf",
        "colab_type": "code",
        "colab": {}
      },
      "source": [
        "import os\n",
        "from pydrive.auth import GoogleAuth\n",
        "from pydrive.drive import GoogleDrive\n",
        "from google.colab import auth\n",
        "from oauth2client.client import GoogleCredentials"
      ],
      "execution_count": 0,
      "outputs": []
    },
    {
      "cell_type": "code",
      "metadata": {
        "id": "u0WvgT7mxFdI",
        "colab_type": "code",
        "colab": {}
      },
      "source": [
        "auth.authenticate_user()\n",
        "gauth = GoogleAuth()\n",
        "gauth.credentials = GoogleCredentials.get_application_default()\n",
        "drive = GoogleDrive(gauth)"
      ],
      "execution_count": 0,
      "outputs": []
    },
    {
      "cell_type": "code",
      "metadata": {
        "id": "Gj131nRIyPB2",
        "colab_type": "code",
        "colab": {}
      },
      "source": [
        "download = drive.CreateFile({'id': '1LGnSqHpFC9wFKFXEpxBWw5fSIdckRt_8'})\n",
        "download.GetContentFile('liver.csv')"
      ],
      "execution_count": 0,
      "outputs": []
    },
    {
      "cell_type": "code",
      "metadata": {
        "id": "NTcHBthAyyMu",
        "colab_type": "code",
        "colab": {}
      },
      "source": [
        "import pandas as pd\n",
        "liver = pd.read_csv('liver.csv')"
      ],
      "execution_count": 0,
      "outputs": []
    },
    {
      "cell_type": "code",
      "metadata": {
        "id": "ECBnAFGOzApY",
        "colab_type": "code",
        "outputId": "085a4bc9-3d6d-41ca-d8df-39e19b40a73c",
        "colab": {
          "base_uri": "https://localhost:8080/",
          "height": 218
        }
      },
      "source": [
        "liver.head()"
      ],
      "execution_count": 0,
      "outputs": [
        {
          "output_type": "execute_result",
          "data": {
            "text/html": [
              "<div>\n",
              "<style scoped>\n",
              "    .dataframe tbody tr th:only-of-type {\n",
              "        vertical-align: middle;\n",
              "    }\n",
              "\n",
              "    .dataframe tbody tr th {\n",
              "        vertical-align: top;\n",
              "    }\n",
              "\n",
              "    .dataframe thead th {\n",
              "        text-align: right;\n",
              "    }\n",
              "</style>\n",
              "<table border=\"1\" class=\"dataframe\">\n",
              "  <thead>\n",
              "    <tr style=\"text-align: right;\">\n",
              "      <th></th>\n",
              "      <th>Age</th>\n",
              "      <th>Gender</th>\n",
              "      <th>Total_Bilirubin</th>\n",
              "      <th>Direct_Bilirubin</th>\n",
              "      <th>Alkaline_Phosphotase</th>\n",
              "      <th>Alamine_Aminotransferase</th>\n",
              "      <th>Aspartate_Aminotransferase</th>\n",
              "      <th>Total_Protiens</th>\n",
              "      <th>Albumin</th>\n",
              "      <th>Albumin_and_Globulin_Ratio</th>\n",
              "      <th>Dataset</th>\n",
              "    </tr>\n",
              "  </thead>\n",
              "  <tbody>\n",
              "    <tr>\n",
              "      <th>0</th>\n",
              "      <td>65</td>\n",
              "      <td>Female</td>\n",
              "      <td>0.7</td>\n",
              "      <td>0.1</td>\n",
              "      <td>187</td>\n",
              "      <td>16</td>\n",
              "      <td>18</td>\n",
              "      <td>6.8</td>\n",
              "      <td>3.3</td>\n",
              "      <td>0.90</td>\n",
              "      <td>1</td>\n",
              "    </tr>\n",
              "    <tr>\n",
              "      <th>1</th>\n",
              "      <td>62</td>\n",
              "      <td>Male</td>\n",
              "      <td>10.9</td>\n",
              "      <td>5.5</td>\n",
              "      <td>699</td>\n",
              "      <td>64</td>\n",
              "      <td>100</td>\n",
              "      <td>7.5</td>\n",
              "      <td>3.2</td>\n",
              "      <td>0.74</td>\n",
              "      <td>1</td>\n",
              "    </tr>\n",
              "    <tr>\n",
              "      <th>2</th>\n",
              "      <td>62</td>\n",
              "      <td>Male</td>\n",
              "      <td>7.3</td>\n",
              "      <td>4.1</td>\n",
              "      <td>490</td>\n",
              "      <td>60</td>\n",
              "      <td>68</td>\n",
              "      <td>7.0</td>\n",
              "      <td>3.3</td>\n",
              "      <td>0.89</td>\n",
              "      <td>1</td>\n",
              "    </tr>\n",
              "    <tr>\n",
              "      <th>3</th>\n",
              "      <td>58</td>\n",
              "      <td>Male</td>\n",
              "      <td>1.0</td>\n",
              "      <td>0.4</td>\n",
              "      <td>182</td>\n",
              "      <td>14</td>\n",
              "      <td>20</td>\n",
              "      <td>6.8</td>\n",
              "      <td>3.4</td>\n",
              "      <td>1.00</td>\n",
              "      <td>1</td>\n",
              "    </tr>\n",
              "    <tr>\n",
              "      <th>4</th>\n",
              "      <td>72</td>\n",
              "      <td>Male</td>\n",
              "      <td>3.9</td>\n",
              "      <td>2.0</td>\n",
              "      <td>195</td>\n",
              "      <td>27</td>\n",
              "      <td>59</td>\n",
              "      <td>7.3</td>\n",
              "      <td>2.4</td>\n",
              "      <td>0.40</td>\n",
              "      <td>1</td>\n",
              "    </tr>\n",
              "  </tbody>\n",
              "</table>\n",
              "</div>"
            ],
            "text/plain": [
              "   Age  Gender  Total_Bilirubin  ...  Albumin  Albumin_and_Globulin_Ratio  Dataset\n",
              "0   65  Female              0.7  ...      3.3                        0.90        1\n",
              "1   62    Male             10.9  ...      3.2                        0.74        1\n",
              "2   62    Male              7.3  ...      3.3                        0.89        1\n",
              "3   58    Male              1.0  ...      3.4                        1.00        1\n",
              "4   72    Male              3.9  ...      2.4                        0.40        1\n",
              "\n",
              "[5 rows x 11 columns]"
            ]
          },
          "metadata": {
            "tags": []
          },
          "execution_count": 5
        }
      ]
    },
    {
      "cell_type": "markdown",
      "metadata": {
        "id": "B9sCRbO6w_lJ",
        "colab_type": "text"
      },
      "source": [
        "## Preprocess the dataset"
      ]
    },
    {
      "cell_type": "code",
      "metadata": {
        "id": "Tk9_Mei9xPJ6",
        "colab_type": "code",
        "outputId": "2aabcd6d-9034-4657-8402-c6132f3dbecd",
        "colab": {
          "base_uri": "https://localhost:8080/",
          "height": 218
        }
      },
      "source": [
        "final_liver = liver.copy()\n",
        "final_liver.head()"
      ],
      "execution_count": 0,
      "outputs": [
        {
          "output_type": "execute_result",
          "data": {
            "text/html": [
              "<div>\n",
              "<style scoped>\n",
              "    .dataframe tbody tr th:only-of-type {\n",
              "        vertical-align: middle;\n",
              "    }\n",
              "\n",
              "    .dataframe tbody tr th {\n",
              "        vertical-align: top;\n",
              "    }\n",
              "\n",
              "    .dataframe thead th {\n",
              "        text-align: right;\n",
              "    }\n",
              "</style>\n",
              "<table border=\"1\" class=\"dataframe\">\n",
              "  <thead>\n",
              "    <tr style=\"text-align: right;\">\n",
              "      <th></th>\n",
              "      <th>Age</th>\n",
              "      <th>Gender</th>\n",
              "      <th>Total_Bilirubin</th>\n",
              "      <th>Direct_Bilirubin</th>\n",
              "      <th>Alkaline_Phosphotase</th>\n",
              "      <th>Alamine_Aminotransferase</th>\n",
              "      <th>Aspartate_Aminotransferase</th>\n",
              "      <th>Total_Protiens</th>\n",
              "      <th>Albumin</th>\n",
              "      <th>Albumin_and_Globulin_Ratio</th>\n",
              "      <th>Dataset</th>\n",
              "    </tr>\n",
              "  </thead>\n",
              "  <tbody>\n",
              "    <tr>\n",
              "      <th>0</th>\n",
              "      <td>65</td>\n",
              "      <td>Female</td>\n",
              "      <td>0.7</td>\n",
              "      <td>0.1</td>\n",
              "      <td>187</td>\n",
              "      <td>16</td>\n",
              "      <td>18</td>\n",
              "      <td>6.8</td>\n",
              "      <td>3.3</td>\n",
              "      <td>0.90</td>\n",
              "      <td>1</td>\n",
              "    </tr>\n",
              "    <tr>\n",
              "      <th>1</th>\n",
              "      <td>62</td>\n",
              "      <td>Male</td>\n",
              "      <td>10.9</td>\n",
              "      <td>5.5</td>\n",
              "      <td>699</td>\n",
              "      <td>64</td>\n",
              "      <td>100</td>\n",
              "      <td>7.5</td>\n",
              "      <td>3.2</td>\n",
              "      <td>0.74</td>\n",
              "      <td>1</td>\n",
              "    </tr>\n",
              "    <tr>\n",
              "      <th>2</th>\n",
              "      <td>62</td>\n",
              "      <td>Male</td>\n",
              "      <td>7.3</td>\n",
              "      <td>4.1</td>\n",
              "      <td>490</td>\n",
              "      <td>60</td>\n",
              "      <td>68</td>\n",
              "      <td>7.0</td>\n",
              "      <td>3.3</td>\n",
              "      <td>0.89</td>\n",
              "      <td>1</td>\n",
              "    </tr>\n",
              "    <tr>\n",
              "      <th>3</th>\n",
              "      <td>58</td>\n",
              "      <td>Male</td>\n",
              "      <td>1.0</td>\n",
              "      <td>0.4</td>\n",
              "      <td>182</td>\n",
              "      <td>14</td>\n",
              "      <td>20</td>\n",
              "      <td>6.8</td>\n",
              "      <td>3.4</td>\n",
              "      <td>1.00</td>\n",
              "      <td>1</td>\n",
              "    </tr>\n",
              "    <tr>\n",
              "      <th>4</th>\n",
              "      <td>72</td>\n",
              "      <td>Male</td>\n",
              "      <td>3.9</td>\n",
              "      <td>2.0</td>\n",
              "      <td>195</td>\n",
              "      <td>27</td>\n",
              "      <td>59</td>\n",
              "      <td>7.3</td>\n",
              "      <td>2.4</td>\n",
              "      <td>0.40</td>\n",
              "      <td>1</td>\n",
              "    </tr>\n",
              "  </tbody>\n",
              "</table>\n",
              "</div>"
            ],
            "text/plain": [
              "   Age  Gender  Total_Bilirubin  ...  Albumin  Albumin_and_Globulin_Ratio  Dataset\n",
              "0   65  Female              0.7  ...      3.3                        0.90        1\n",
              "1   62    Male             10.9  ...      3.2                        0.74        1\n",
              "2   62    Male              7.3  ...      3.3                        0.89        1\n",
              "3   58    Male              1.0  ...      3.4                        1.00        1\n",
              "4   72    Male              3.9  ...      2.4                        0.40        1\n",
              "\n",
              "[5 rows x 11 columns]"
            ]
          },
          "metadata": {
            "tags": []
          },
          "execution_count": 6
        }
      ]
    },
    {
      "cell_type": "markdown",
      "metadata": {
        "id": "F-U7qL9bUM07",
        "colab_type": "text"
      },
      "source": [
        ""
      ]
    },
    {
      "cell_type": "code",
      "metadata": {
        "id": "QiMIF6mgzC4m",
        "colab_type": "code",
        "outputId": "9421d088-6408-43e5-aa5e-416a18fdd7b2",
        "colab": {
          "base_uri": "https://localhost:8080/",
          "height": 308
        }
      },
      "source": [
        "final_liver.info()"
      ],
      "execution_count": 0,
      "outputs": [
        {
          "output_type": "stream",
          "text": [
            "<class 'pandas.core.frame.DataFrame'>\n",
            "RangeIndex: 583 entries, 0 to 582\n",
            "Data columns (total 11 columns):\n",
            "Age                           583 non-null int64\n",
            "Gender                        583 non-null object\n",
            "Total_Bilirubin               583 non-null float64\n",
            "Direct_Bilirubin              583 non-null float64\n",
            "Alkaline_Phosphotase          583 non-null int64\n",
            "Alamine_Aminotransferase      583 non-null int64\n",
            "Aspartate_Aminotransferase    583 non-null int64\n",
            "Total_Protiens                583 non-null float64\n",
            "Albumin                       583 non-null float64\n",
            "Albumin_and_Globulin_Ratio    579 non-null float64\n",
            "Dataset                       583 non-null int64\n",
            "dtypes: float64(5), int64(5), object(1)\n",
            "memory usage: 50.2+ KB\n"
          ],
          "name": "stdout"
        }
      ]
    },
    {
      "cell_type": "markdown",
      "metadata": {
        "id": "fV0zaJstUWVg",
        "colab_type": "text"
      },
      "source": [
        "From the information from the Albumin_and_Globulin_Ratio column, we can see that there are 4 missing values. Missing values are not good for our model, we will fill the missing values using the median value of Albumin_and_Globulin_Ratio. Median was chosen because median values are most resistant to outliers\n",
        "\n"
      ]
    },
    {
      "cell_type": "code",
      "metadata": {
        "id": "1SF7lGM82cLm",
        "colab_type": "code",
        "colab": {}
      },
      "source": [
        "final_liver['Albumin_and_Globulin_Ratio'].fillna(final_liver['Albumin_and_Globulin_Ratio'].median(), inplace = True)"
      ],
      "execution_count": 0,
      "outputs": []
    },
    {
      "cell_type": "code",
      "metadata": {
        "id": "dG8IvLiaUkYl",
        "colab_type": "code",
        "colab": {}
      },
      "source": [
        "y = final_liver['Dataset']\n",
        "X = final_liver.drop('Dataset', axis = 1)"
      ],
      "execution_count": 0,
      "outputs": []
    },
    {
      "cell_type": "code",
      "metadata": {
        "id": "h5v8ylWPUtKv",
        "colab_type": "code",
        "colab": {}
      },
      "source": [
        "#To gain more information from the Age column, we will have to bin it into different categories.\n",
        "# We one hot encode the resulting column\n",
        "label_names = ['Children_Teenagers','Youth','Adult','Senior']\n",
        "cut_points = [0,17,29,59,90]\n",
        "\n",
        "def process_age(X,cut_points, label_names):\n",
        "    X['Age_categories'] = pd.cut(X['Age'],cut_points, labels = label_names)\n",
        "    return X\n",
        "\n",
        "X = process_age(X,cut_points,label_names)"
      ],
      "execution_count": 0,
      "outputs": []
    },
    {
      "cell_type": "code",
      "metadata": {
        "id": "QZ2jfTdRVOWV",
        "colab_type": "code",
        "outputId": "c16b46a4-ca9a-47e4-d7aa-80f99719616f",
        "colab": {
          "base_uri": "https://localhost:8080/",
          "height": 108
        }
      },
      "source": [
        "X['Age_categories'].value_counts(dropna = False)"
      ],
      "execution_count": 0,
      "outputs": [
        {
          "output_type": "execute_result",
          "data": {
            "text/plain": [
              "Adult                 345\n",
              "Senior                133\n",
              "Youth                  80\n",
              "Children_Teenagers     25\n",
              "Name: Age_categories, dtype: int64"
            ]
          },
          "metadata": {
            "tags": []
          },
          "execution_count": 11
        }
      ]
    },
    {
      "cell_type": "code",
      "metadata": {
        "id": "E-GGhLhZ82OB",
        "colab_type": "code",
        "colab": {}
      },
      "source": [
        "cat_vars =['Gender','Age_categories']\n",
        "\n",
        "for var in cat_vars:\n",
        "  \n",
        "  cat_list = pd.get_dummies(X[var], prefix=var)\n",
        "  X1=X.join(cat_list)\n",
        "  X=X1\n",
        "\n",
        "cat_vars =['Gender','Age_categories']\n",
        "data_vars = X.columns.values.tolist()\n",
        "\n",
        "to_keep=[i for i in data_vars if i not in cat_vars]"
      ],
      "execution_count": 0,
      "outputs": []
    },
    {
      "cell_type": "code",
      "metadata": {
        "id": "nsMQzErS842E",
        "colab_type": "code",
        "outputId": "78980a1b-ec3e-4f6e-9a7d-8d8e64ba0ffb",
        "colab": {
          "base_uri": "https://localhost:8080/",
          "height": 126
        }
      },
      "source": [
        "X=X[to_keep]\n",
        "X.columns.values"
      ],
      "execution_count": 0,
      "outputs": [
        {
          "output_type": "execute_result",
          "data": {
            "text/plain": [
              "array(['Age', 'Total_Bilirubin', 'Direct_Bilirubin',\n",
              "       'Alkaline_Phosphotase', 'Alamine_Aminotransferase',\n",
              "       'Aspartate_Aminotransferase', 'Total_Protiens', 'Albumin',\n",
              "       'Albumin_and_Globulin_Ratio', 'Gender_Female', 'Gender_Male',\n",
              "       'Age_categories_Children_Teenagers', 'Age_categories_Youth',\n",
              "       'Age_categories_Adult', 'Age_categories_Senior'], dtype=object)"
            ]
          },
          "metadata": {
            "tags": []
          },
          "execution_count": 13
        }
      ]
    },
    {
      "cell_type": "markdown",
      "metadata": {
        "id": "AoGUWPVZ-CLX",
        "colab_type": "text"
      },
      "source": [
        "I will drop the age column as it does not add any variability to our data\n"
      ]
    },
    {
      "cell_type": "code",
      "metadata": {
        "id": "gG8Gyf8H-Slc",
        "colab_type": "code",
        "outputId": "3e5d9261-a8c8-428b-c42a-debff7011b8c",
        "colab": {
          "base_uri": "https://localhost:8080/",
          "height": 108
        }
      },
      "source": [
        "X.drop('Age', axis=1, inplace = True)"
      ],
      "execution_count": 0,
      "outputs": [
        {
          "output_type": "stream",
          "text": [
            "/usr/local/lib/python3.6/dist-packages/pandas/core/frame.py:3940: SettingWithCopyWarning: \n",
            "A value is trying to be set on a copy of a slice from a DataFrame\n",
            "\n",
            "See the caveats in the documentation: http://pandas.pydata.org/pandas-docs/stable/indexing.html#indexing-view-versus-copy\n",
            "  errors=errors)\n"
          ],
          "name": "stderr"
        }
      ]
    },
    {
      "cell_type": "code",
      "metadata": {
        "id": "ausLbCbdVcnp",
        "colab_type": "code",
        "outputId": "60629500-3807-4be3-d28b-13448d32204c",
        "colab": {
          "base_uri": "https://localhost:8080/",
          "height": 74
        }
      },
      "source": [
        "#Import all the needed prepreocessing modules and the logistic regression module\n",
        "from sklearn.model_selection import train_test_split\n",
        "from sklearn.pipeline import make_pipeline\n",
        "from sklearn.model_selection import GridSearchCV\n",
        "from sklearn.preprocessing import MinMaxScaler\n",
        "from imblearn.over_sampling import SMOTE\n",
        "from sklearn.linear_model  import LogisticRegression\n",
        "from sklearn.preprocessing import PolynomialFeatures\n"
      ],
      "execution_count": 0,
      "outputs": [
        {
          "output_type": "stream",
          "text": [
            "/usr/local/lib/python3.6/dist-packages/sklearn/externals/six.py:31: DeprecationWarning: The module is deprecated in version 0.21 and will be removed in version 0.23 since we've dropped support for Python 2.7. Please rely on the official version of six (https://pypi.org/project/six/).\n",
            "  \"(https://pypi.org/project/six/).\", DeprecationWarning)\n"
          ],
          "name": "stderr"
        }
      ]
    },
    {
      "cell_type": "markdown",
      "metadata": {
        "id": "W97Esy8n2d0I",
        "colab_type": "text"
      },
      "source": [
        "To prevent any form of data leakage, we have to split our data into the training and test set before carring out any form of preprocessing."
      ]
    },
    {
      "cell_type": "markdown",
      "metadata": {
        "id": "qxMVZoDPNdyN",
        "colab_type": "text"
      },
      "source": [
        "## Logistic Regression"
      ]
    },
    {
      "cell_type": "code",
      "metadata": {
        "id": "ToQcSMPJVtiJ",
        "colab_type": "code",
        "colab": {}
      },
      "source": [
        "X_train, X_test, y_train, y_test = train_test_split(X, y, random_state = 0)\n"
      ],
      "execution_count": 0,
      "outputs": []
    },
    {
      "cell_type": "code",
      "metadata": {
        "id": "D20PGL1gVUaK",
        "colab_type": "code",
        "outputId": "281144a5-bd8a-4e08-ac73-dbb1a7d8b8fb",
        "colab": {
          "base_uri": "https://localhost:8080/",
          "height": 72
        }
      },
      "source": [
        "target_count = final_liver['Dataset'].value_counts(dropna = False)\n",
        "target_count"
      ],
      "execution_count": 0,
      "outputs": [
        {
          "output_type": "execute_result",
          "data": {
            "text/plain": [
              "1    416\n",
              "2    167\n",
              "Name: Dataset, dtype: int64"
            ]
          },
          "metadata": {
            "tags": []
          },
          "execution_count": 17
        }
      ]
    },
    {
      "cell_type": "code",
      "metadata": {
        "id": "u7MEqozEVZgP",
        "colab_type": "code",
        "outputId": "f6880acc-f57c-4996-d45e-8d843ec47f84",
        "colab": {
          "base_uri": "https://localhost:8080/",
          "height": 296
        }
      },
      "source": [
        "target_count.plot(kind='bar', title='Count (target)')"
      ],
      "execution_count": 0,
      "outputs": [
        {
          "output_type": "execute_result",
          "data": {
            "text/plain": [
              "<matplotlib.axes._subplots.AxesSubplot at 0x7f551ab97400>"
            ]
          },
          "metadata": {
            "tags": []
          },
          "execution_count": 18
        },
        {
          "output_type": "display_data",
          "data": {
            "image/png": "[encoded data removed]",
            "text/plain": [
              "<Figure size 432x288 with 1 Axes>"
            ]
          },
          "metadata": {
            "tags": []
          }
        }
      ]
    },
    {
      "cell_type": "code",
      "metadata": {
        "id": "TZ-22W8cQdaD",
        "colab_type": "code",
        "colab": {}
      },
      "source": [
        "logistic = LogisticRegression()"
      ],
      "execution_count": 0,
      "outputs": []
    },
    {
      "cell_type": "code",
      "metadata": {
        "id": "yjEKLI8kSKFJ",
        "colab_type": "code",
        "colab": {}
      },
      "source": [
        "pipe = make_pipeline(MinMaxScaler(),\n",
        "                     PolynomialFeatures(),\n",
        "                     LogisticRegression()\n",
        "                    )\n",
        "\n"
      ],
      "execution_count": 0,
      "outputs": []
    },
    {
      "cell_type": "code",
      "metadata": {
        "id": "_FaQ_oj1X3Qj",
        "colab_type": "code",
        "colab": {}
      },
      "source": [
        "import numpy as np\n",
        "\n",
        "parameters = {'logisticregression__C': np.linspace(1, 10, 10),\n",
        "              'logisticregression__penalty':[\"l1\",\"l2\"],\n",
        "              'polynomialfeatures__degree': [1, 2, 3]\n",
        "             }"
      ],
      "execution_count": 0,
      "outputs": []
    },
    {
      "cell_type": "code",
      "metadata": {
        "id": "UR2drQjFSFxL",
        "colab_type": "code",
        "colab": {}
      },
      "source": [
        "clf = GridSearchCV(pipe, parameters, cv=5, verbose=5, n_jobs=3)"
      ],
      "execution_count": 0,
      "outputs": []
    },
    {
      "cell_type": "code",
      "metadata": {
        "id": "CD30VDw3SMqV",
        "colab_type": "code",
        "outputId": "ce4b790b-e83b-4bd5-c9a4-f197c06287e2",
        "colab": {
          "base_uri": "https://localhost:8080/",
          "height": 746
        }
      },
      "source": [
        "clf.fit(X_train,y_train)"
      ],
      "execution_count": 0,
      "outputs": [
        {
          "output_type": "stream",
          "text": [
            "Fitting 5 folds for each of 60 candidates, totalling 300 fits\n"
          ],
          "name": "stdout"
        },
        {
          "output_type": "stream",
          "text": [
            "[Parallel(n_jobs=3)]: Using backend LokyBackend with 3 concurrent workers.\n",
            "[Parallel(n_jobs=3)]: Done  12 tasks      | elapsed:    2.2s\n",
            "[Parallel(n_jobs=3)]: Done 104 tasks      | elapsed:    5.5s\n",
            "[Parallel(n_jobs=3)]: Done 284 tasks      | elapsed:   13.0s\n",
            "[Parallel(n_jobs=3)]: Done 300 out of 300 | elapsed:   13.7s finished\n",
            "/usr/local/lib/python3.6/dist-packages/sklearn/model_selection/_search.py:813: DeprecationWarning: The default of the `iid` parameter will change from True to False in version 0.22 and will be removed in 0.24. This will change numeric results when test-set sizes are unequal.\n",
            "  DeprecationWarning)\n",
            "/usr/local/lib/python3.6/dist-packages/sklearn/linear_model/logistic.py:432: FutureWarning: Default solver will be changed to 'lbfgs' in 0.22. Specify a solver to silence this warning.\n",
            "  FutureWarning)\n"
          ],
          "name": "stderr"
        },
        {
          "output_type": "execute_result",
          "data": {
            "text/plain": [
              "GridSearchCV(cv=5, error_score='raise-deprecating',\n",
              "             estimator=Pipeline(memory=None,\n",
              "                                steps=[('minmaxscaler',\n",
              "                                        MinMaxScaler(copy=True,\n",
              "                                                     feature_range=(0, 1))),\n",
              "                                       ('polynomialfeatures',\n",
              "                                        PolynomialFeatures(degree=2,\n",
              "                                                           include_bias=True,\n",
              "                                                           interaction_only=False,\n",
              "                                                           order='C')),\n",
              "                                       ('logisticregression',\n",
              "                                        LogisticRegression(C=1.0,\n",
              "                                                           class_weight=None,\n",
              "                                                           dual=False,\n",
              "                                                           fit_intercept=True,\n",
              "                                                           int...\n",
              "                                                           penalty='l2',\n",
              "                                                           random_state=None,\n",
              "                                                           solver='warn',\n",
              "                                                           tol=0.0001,\n",
              "                                                           verbose=0,\n",
              "                                                           warm_start=False))],\n",
              "                                verbose=False),\n",
              "             iid='warn', n_jobs=3,\n",
              "             param_grid={'logisticregression__C': array([ 1.,  2.,  3.,  4.,  5.,  6.,  7.,  8.,  9., 10.]),\n",
              "                         'logisticregression__penalty': ['l1', 'l2'],\n",
              "                         'polynomialfeatures__degree': [1, 2, 3]},\n",
              "             pre_dispatch='2*n_jobs', refit=True, return_train_score=False,\n",
              "             scoring=None, verbose=5)"
            ]
          },
          "metadata": {
            "tags": []
          },
          "execution_count": 23
        }
      ]
    },
    {
      "cell_type": "markdown",
      "metadata": {
        "id": "b89OXmA0w3IL",
        "colab_type": "text"
      },
      "source": [
        ""
      ]
    },
    {
      "cell_type": "code",
      "metadata": {
        "id": "viMJ9vWLUe5O",
        "colab_type": "code",
        "outputId": "7e24cd2c-921a-4871-98c0-8a6678d4c0ee",
        "colab": {
          "base_uri": "https://localhost:8080/",
          "height": 272
        }
      },
      "source": [
        "clf.best_estimator_"
      ],
      "execution_count": 0,
      "outputs": [
        {
          "output_type": "execute_result",
          "data": {
            "text/plain": [
              "Pipeline(memory=None,\n",
              "         steps=[('minmaxscaler', MinMaxScaler(copy=True, feature_range=(0, 1))),\n",
              "                ('polynomialfeatures',\n",
              "                 PolynomialFeatures(degree=1, include_bias=True,\n",
              "                                    interaction_only=False, order='C')),\n",
              "                ('logisticregression',\n",
              "                 LogisticRegression(C=7.0, class_weight=None, dual=False,\n",
              "                                    fit_intercept=True, intercept_scaling=1,\n",
              "                                    l1_ratio=None, max_iter=100,\n",
              "                                    multi_class='warn', n_jobs=None,\n",
              "                                    penalty='l1', random_state=None,\n",
              "                                    solver='warn', tol=0.0001, verbose=0,\n",
              "                                    warm_start=False))],\n",
              "         verbose=False)"
            ]
          },
          "metadata": {
            "tags": []
          },
          "execution_count": 24
        }
      ]
    },
    {
      "cell_type": "code",
      "metadata": {
        "id": "3spAFnnmU4UT",
        "colab_type": "code",
        "outputId": "2cbf6e85-cd92-4802-cfaa-7a25a7fb77e5",
        "colab": {
          "base_uri": "https://localhost:8080/",
          "height": 108
        }
      },
      "source": [
        "clf.best_estimator_.named_steps[\"logisticregression\"]"
      ],
      "execution_count": 0,
      "outputs": [
        {
          "output_type": "execute_result",
          "data": {
            "text/plain": [
              "LogisticRegression(C=7.0, class_weight=None, dual=False, fit_intercept=True,\n",
              "                   intercept_scaling=1, l1_ratio=None, max_iter=100,\n",
              "                   multi_class='warn', n_jobs=None, penalty='l1',\n",
              "                   random_state=None, solver='warn', tol=0.0001, verbose=0,\n",
              "                   warm_start=False)"
            ]
          },
          "metadata": {
            "tags": []
          },
          "execution_count": 25
        }
      ]
    },
    {
      "cell_type": "code",
      "metadata": {
        "id": "mF81T-NYVb7H",
        "colab_type": "code",
        "outputId": "e22533a8-7d46-4e8b-b892-ecf36f0589a8",
        "colab": {
          "base_uri": "https://localhost:8080/",
          "height": 72
        }
      },
      "source": [
        "clf.best_params_"
      ],
      "execution_count": 0,
      "outputs": [
        {
          "output_type": "execute_result",
          "data": {
            "text/plain": [
              "{'logisticregression__C': 7.0,\n",
              " 'logisticregression__penalty': 'l1',\n",
              " 'polynomialfeatures__degree': 1}"
            ]
          },
          "metadata": {
            "tags": []
          },
          "execution_count": 26
        }
      ]
    },
    {
      "cell_type": "code",
      "metadata": {
        "id": "pts6VbNuVw-4",
        "colab_type": "code",
        "outputId": "d9ca6437-8bb5-40e8-8835-4f8fd3a59b54",
        "colab": {
          "base_uri": "https://localhost:8080/",
          "height": 35
        }
      },
      "source": [
        "clf.score(X_train,y_train)"
      ],
      "execution_count": 0,
      "outputs": [
        {
          "output_type": "execute_result",
          "data": {
            "text/plain": [
              "0.7459954233409611"
            ]
          },
          "metadata": {
            "tags": []
          },
          "execution_count": 27
        }
      ]
    },
    {
      "cell_type": "code",
      "metadata": {
        "id": "PeJB-YHPV6_v",
        "colab_type": "code",
        "outputId": "dc5d6f06-a61b-4491-bdac-ebd583bff862",
        "colab": {
          "base_uri": "https://localhost:8080/",
          "height": 35
        }
      },
      "source": [
        "clf.score(X_test, y_test)"
      ],
      "execution_count": 0,
      "outputs": [
        {
          "output_type": "execute_result",
          "data": {
            "text/plain": [
              "0.6986301369863014"
            ]
          },
          "metadata": {
            "tags": []
          },
          "execution_count": 28
        }
      ]
    },
    {
      "cell_type": "markdown",
      "metadata": {
        "id": "vpAdRWcIHdYe",
        "colab_type": "text"
      },
      "source": [
        "## Confusion Matrix"
      ]
    },
    {
      "cell_type": "code",
      "metadata": {
        "id": "N2el0tCdLU6t",
        "colab_type": "code",
        "colab": {}
      },
      "source": [
        "from sklearn.metrics import confusion_matrix\n",
        "from sklearn.metrics import accuracy_score, precision_score, recall_score, f1_score\n",
        "from sklearn.metrics import classification_report"
      ],
      "execution_count": 0,
      "outputs": []
    },
    {
      "cell_type": "code",
      "metadata": {
        "id": "h2ZXT_4qHjUV",
        "colab_type": "code",
        "colab": {}
      },
      "source": [
        "clf_train = clf.predict(X_train)\n",
        "clf_predicted = clf.predict(X_test)"
      ],
      "execution_count": 0,
      "outputs": []
    },
    {
      "cell_type": "code",
      "metadata": {
        "id": "ebKEBe_vkKSK",
        "colab_type": "code",
        "colab": {}
      },
      "source": [
        "#clf_predicted"
      ],
      "execution_count": 0,
      "outputs": []
    },
    {
      "cell_type": "code",
      "metadata": {
        "id": "I870xk-iLPZ3",
        "colab_type": "code",
        "outputId": "0bace37e-ac13-461b-e5c5-c48ec1528696",
        "colab": {
          "base_uri": "https://localhost:8080/",
          "height": 54
        }
      },
      "source": [
        "confusion = confusion_matrix(y_test, clf_predicted)\n",
        "confusion"
      ],
      "execution_count": 0,
      "outputs": [
        {
          "output_type": "execute_result",
          "data": {
            "text/plain": [
              "array([[95,  5],\n",
              "       [39,  7]])"
            ]
          },
          "metadata": {
            "tags": []
          },
          "execution_count": 32
        }
      ]
    },
    {
      "cell_type": "code",
      "metadata": {
        "id": "OwGBPb44O9-n",
        "colab_type": "code",
        "outputId": "10b5e63d-28f6-4036-e002-5771f3059449",
        "colab": {
          "base_uri": "https://localhost:8080/",
          "height": 181
        }
      },
      "source": [
        "from sklearn.metrics import classification_report\n",
        "\n",
        "print(classification_report(y_test, clf_predicted, target_names=['liver_disease_absent', 'liver_disease_present']))"
      ],
      "execution_count": 0,
      "outputs": [
        {
          "output_type": "stream",
          "text": [
            "                       precision    recall  f1-score   support\n",
            "\n",
            " liver_disease_absent       0.71      0.95      0.81       100\n",
            "liver_disease_present       0.58      0.15      0.24        46\n",
            "\n",
            "             accuracy                           0.70       146\n",
            "            macro avg       0.65      0.55      0.53       146\n",
            "         weighted avg       0.67      0.70      0.63       146\n",
            "\n"
          ],
          "name": "stdout"
        }
      ]
    }
  ]
}