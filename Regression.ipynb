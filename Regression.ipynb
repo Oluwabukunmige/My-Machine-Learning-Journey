{
  "nbformat": 4,
  "nbformat_minor": 0,
  "metadata": {
    "colab": {
      "name": "Regression",
      "version": "0.3.2",
      "provenance": [],
      "collapsed_sections": [],
      "include_colab_link": true
    },
    "kernelspec": {
      "name": "python3",
      "display_name": "Python 3"
    }
  },
  "cells": [
    {
      "cell_type": "markdown",
      "metadata": {
        "id": "view-in-github",
        "colab_type": "text"
      },
      "source": [
        "<a href=\"https://colab.research.google.com/github/Oluwabukunmige/My-Machine-Learning-Journey/blob/master/Regression.ipynb\" target=\"_parent\"><img src=\"https://colab.research.google.com/assets/colab-badge.svg\" alt=\"Open In Colab\"/></a>"
      ]
    },
    {
      "cell_type": "code",
      "metadata": {
        "id": "RbyPao8RQk4-",
        "colab_type": "code",
        "outputId": "dd5d1d1e-def3-4fbb-9723-73c3ca4617b4",
        "colab": {
          "base_uri": "https://localhost:8080/",
          "height": 274
        }
      },
      "source": [
        "!pip install PyDrive"
      ],
      "execution_count": 10,
      "outputs": [
        {
          "output_type": "stream",
          "text": [
            "Requirement already satisfied: PyDrive in /usr/local/lib/python3.6/dist-packages (1.3.1)\n",
            "Requirement already satisfied: google-api-python-client>=1.2 in /usr/local/lib/python3.6/dist-packages (from PyDrive) (1.7.9)\n",
            "Requirement already satisfied: oauth2client>=4.0.0 in /usr/local/lib/python3.6/dist-packages (from PyDrive) (4.1.3)\n",
            "Requirement already satisfied: PyYAML>=3.0 in /usr/local/lib/python3.6/dist-packages (from PyDrive) (3.13)\n",
            "Requirement already satisfied: google-auth>=1.4.1 in /usr/local/lib/python3.6/dist-packages (from google-api-python-client>=1.2->PyDrive) (1.4.2)\n",
            "Requirement already satisfied: uritemplate<4dev,>=3.0.0 in /usr/local/lib/python3.6/dist-packages (from google-api-python-client>=1.2->PyDrive) (3.0.0)\n",
            "Requirement already satisfied: google-auth-httplib2>=0.0.3 in /usr/local/lib/python3.6/dist-packages (from google-api-python-client>=1.2->PyDrive) (0.0.3)\n",
            "Requirement already satisfied: httplib2<1dev,>=0.9.2 in /usr/local/lib/python3.6/dist-packages (from google-api-python-client>=1.2->PyDrive) (0.11.3)\n",
            "Requirement already satisfied: six<2dev,>=1.6.1 in /usr/local/lib/python3.6/dist-packages (from google-api-python-client>=1.2->PyDrive) (1.12.0)\n",
            "Requirement already satisfied: rsa>=3.1.4 in /usr/local/lib/python3.6/dist-packages (from oauth2client>=4.0.0->PyDrive) (4.0)\n",
            "Requirement already satisfied: pyasn1>=0.1.7 in /usr/local/lib/python3.6/dist-packages (from oauth2client>=4.0.0->PyDrive) (0.4.5)\n",
            "Requirement already satisfied: pyasn1-modules>=0.0.5 in /usr/local/lib/python3.6/dist-packages (from oauth2client>=4.0.0->PyDrive) (0.2.5)\n",
            "Requirement already satisfied: cachetools>=2.0.0 in /usr/local/lib/python3.6/dist-packages (from google-auth>=1.4.1->google-api-python-client>=1.2->PyDrive) (3.1.1)\n"
          ],
          "name": "stdout"
        }
      ]
    },
    {
      "cell_type": "code",
      "metadata": {
        "id": "GuY-l4eJU94m",
        "colab_type": "code",
        "colab": {}
      },
      "source": [
        "import os\n",
        "from pydrive.auth import GoogleAuth\n",
        "from pydrive.drive import GoogleDrive\n",
        "from google.colab import auth\n",
        "from oauth2client.client import GoogleCredentials"
      ],
      "execution_count": 0,
      "outputs": []
    },
    {
      "cell_type": "code",
      "metadata": {
        "id": "rI3eUQiOVDL6",
        "colab_type": "code",
        "colab": {}
      },
      "source": [
        "auth.authenticate_user()\n",
        "gauth = GoogleAuth()\n",
        "gauth.credentials = GoogleCredentials.get_application_default()\n",
        "drive = GoogleDrive(gauth)"
      ],
      "execution_count": 0,
      "outputs": []
    },
    {
      "cell_type": "code",
      "metadata": {
        "id": "uzweCjmVWJMM",
        "colab_type": "code",
        "colab": {}
      },
      "source": [
        "download = drive.CreateFile({'id': '1KpWx-lPL6-zNJpz_GvaibI3CqqVhuDtn'})\n",
        "download.GetContentFile('cal_housing.csv')"
      ],
      "execution_count": 0,
      "outputs": []
    },
    {
      "cell_type": "code",
      "metadata": {
        "id": "5G_NF5bHWap-",
        "colab_type": "code",
        "colab": {}
      },
      "source": [
        "import pandas as pd\n",
        "cal_housing = pd.read_csv('cal_housing.csv')\n"
      ],
      "execution_count": 0,
      "outputs": []
    },
    {
      "cell_type": "code",
      "metadata": {
        "id": "90OWdcWAsHmh",
        "colab_type": "code",
        "colab": {}
      },
      "source": [
        "final_housing = cal_housing.copy()"
      ],
      "execution_count": 0,
      "outputs": []
    },
    {
      "cell_type": "code",
      "metadata": {
        "id": "kXt2ICg3WnDa",
        "colab_type": "code",
        "colab": {
          "base_uri": "https://localhost:8080/",
          "height": 218
        },
        "outputId": "c3f98feb-9948-4fb5-faea-8b88214ce7cc"
      },
      "source": [
        "final_housing.head()"
      ],
      "execution_count": 16,
      "outputs": [
        {
          "output_type": "execute_result",
          "data": {
            "text/html": [
              "<div>\n",
              "<style scoped>\n",
              "    .dataframe tbody tr th:only-of-type {\n",
              "        vertical-align: middle;\n",
              "    }\n",
              "\n",
              "    .dataframe tbody tr th {\n",
              "        vertical-align: top;\n",
              "    }\n",
              "\n",
              "    .dataframe thead th {\n",
              "        text-align: right;\n",
              "    }\n",
              "</style>\n",
              "<table border=\"1\" class=\"dataframe\">\n",
              "  <thead>\n",
              "    <tr style=\"text-align: right;\">\n",
              "      <th></th>\n",
              "      <th>longitude</th>\n",
              "      <th>latitude</th>\n",
              "      <th>housing_median_age</th>\n",
              "      <th>total_rooms</th>\n",
              "      <th>total_bedrooms</th>\n",
              "      <th>population</th>\n",
              "      <th>households</th>\n",
              "      <th>median_income</th>\n",
              "      <th>median_house_value</th>\n",
              "      <th>ocean_proximity</th>\n",
              "    </tr>\n",
              "  </thead>\n",
              "  <tbody>\n",
              "    <tr>\n",
              "      <th>0</th>\n",
              "      <td>-122.23</td>\n",
              "      <td>37.88</td>\n",
              "      <td>41.0</td>\n",
              "      <td>880.0</td>\n",
              "      <td>129.0</td>\n",
              "      <td>322.0</td>\n",
              "      <td>126.0</td>\n",
              "      <td>8.3252</td>\n",
              "      <td>452600.0</td>\n",
              "      <td>NEAR BAY</td>\n",
              "    </tr>\n",
              "    <tr>\n",
              "      <th>1</th>\n",
              "      <td>-122.22</td>\n",
              "      <td>37.86</td>\n",
              "      <td>21.0</td>\n",
              "      <td>7099.0</td>\n",
              "      <td>1106.0</td>\n",
              "      <td>2401.0</td>\n",
              "      <td>1138.0</td>\n",
              "      <td>8.3014</td>\n",
              "      <td>358500.0</td>\n",
              "      <td>NEAR BAY</td>\n",
              "    </tr>\n",
              "    <tr>\n",
              "      <th>2</th>\n",
              "      <td>-122.24</td>\n",
              "      <td>37.85</td>\n",
              "      <td>52.0</td>\n",
              "      <td>1467.0</td>\n",
              "      <td>190.0</td>\n",
              "      <td>496.0</td>\n",
              "      <td>177.0</td>\n",
              "      <td>7.2574</td>\n",
              "      <td>352100.0</td>\n",
              "      <td>NEAR BAY</td>\n",
              "    </tr>\n",
              "    <tr>\n",
              "      <th>3</th>\n",
              "      <td>-122.25</td>\n",
              "      <td>37.85</td>\n",
              "      <td>52.0</td>\n",
              "      <td>1274.0</td>\n",
              "      <td>235.0</td>\n",
              "      <td>558.0</td>\n",
              "      <td>219.0</td>\n",
              "      <td>5.6431</td>\n",
              "      <td>341300.0</td>\n",
              "      <td>NEAR BAY</td>\n",
              "    </tr>\n",
              "    <tr>\n",
              "      <th>4</th>\n",
              "      <td>-122.25</td>\n",
              "      <td>37.85</td>\n",
              "      <td>52.0</td>\n",
              "      <td>1627.0</td>\n",
              "      <td>280.0</td>\n",
              "      <td>565.0</td>\n",
              "      <td>259.0</td>\n",
              "      <td>3.8462</td>\n",
              "      <td>342200.0</td>\n",
              "      <td>NEAR BAY</td>\n",
              "    </tr>\n",
              "  </tbody>\n",
              "</table>\n",
              "</div>"
            ],
            "text/plain": [
              "   longitude  latitude  ...  median_house_value  ocean_proximity\n",
              "0    -122.23     37.88  ...            452600.0         NEAR BAY\n",
              "1    -122.22     37.86  ...            358500.0         NEAR BAY\n",
              "2    -122.24     37.85  ...            352100.0         NEAR BAY\n",
              "3    -122.25     37.85  ...            341300.0         NEAR BAY\n",
              "4    -122.25     37.85  ...            342200.0         NEAR BAY\n",
              "\n",
              "[5 rows x 10 columns]"
            ]
          },
          "metadata": {
            "tags": []
          },
          "execution_count": 16
        }
      ]
    },
    {
      "cell_type": "code",
      "metadata": {
        "id": "we9Y-ZbXWpjR",
        "colab_type": "code",
        "colab": {
          "base_uri": "https://localhost:8080/",
          "height": 290
        },
        "outputId": "632b3d3c-6e62-4857-90fa-c344eaa99bf7"
      },
      "source": [
        "final_housing.info()"
      ],
      "execution_count": 9,
      "outputs": [
        {
          "output_type": "stream",
          "text": [
            "<class 'pandas.core.frame.DataFrame'>\n",
            "RangeIndex: 20640 entries, 0 to 20639\n",
            "Data columns (total 10 columns):\n",
            "longitude             20640 non-null float64\n",
            "latitude              20640 non-null float64\n",
            "housing_median_age    20640 non-null float64\n",
            "total_rooms           20640 non-null float64\n",
            "total_bedrooms        20433 non-null float64\n",
            "population            20640 non-null float64\n",
            "households            20640 non-null float64\n",
            "median_income         20640 non-null float64\n",
            "median_house_value    20640 non-null float64\n",
            "ocean_proximity       20640 non-null object\n",
            "dtypes: float64(9), object(1)\n",
            "memory usage: 1.6+ MB\n"
          ],
          "name": "stdout"
        }
      ]
    },
    {
      "cell_type": "markdown",
      "metadata": {
        "id": "YPrrx1wXrI9y",
        "colab_type": "text"
      },
      "source": [
        "The total_bedrooms column has some missing values. "
      ]
    },
    {
      "cell_type": "code",
      "metadata": {
        "id": "7oP8WZcJWyRz",
        "colab_type": "code",
        "colab": {
          "base_uri": "https://localhost:8080/",
          "height": 1000
        },
        "outputId": "37da65b0-5e60-4b37-c958-18748ac83ec2"
      },
      "source": [
        "cal_housing['total_bedrooms'].value_counts(dropna = False)\n"
      ],
      "execution_count": 17,
      "outputs": [
        {
          "output_type": "execute_result",
          "data": {
            "text/plain": [
              "NaN       207\n",
              "280.0      55\n",
              "331.0      51\n",
              "345.0      50\n",
              "393.0      49\n",
              "343.0      49\n",
              "394.0      48\n",
              "328.0      48\n",
              "348.0      48\n",
              "272.0      47\n",
              "309.0      47\n",
              "295.0      46\n",
              "314.0      46\n",
              "322.0      46\n",
              "399.0      46\n",
              "317.0      46\n",
              "284.0      45\n",
              "388.0      45\n",
              "290.0      45\n",
              "291.0      45\n",
              "346.0      45\n",
              "287.0      45\n",
              "340.0      45\n",
              "313.0      45\n",
              "269.0      44\n",
              "460.0      44\n",
              "365.0      44\n",
              "294.0      44\n",
              "361.0      44\n",
              "312.0      44\n",
              "         ... \n",
              "2814.0      1\n",
              "6445.0      1\n",
              "2141.0      1\n",
              "2460.0      1\n",
              "3479.0      1\n",
              "1758.0      1\n",
              "1127.0      1\n",
              "2010.0      1\n",
              "1571.0      1\n",
              "3224.0      1\n",
              "1494.0      1\n",
              "1052.0      1\n",
              "2574.0      1\n",
              "1570.0      1\n",
              "1437.0      1\n",
              "2118.0      1\n",
              "3336.0      1\n",
              "2289.0      1\n",
              "1736.0      1\n",
              "940.0       1\n",
              "980.0       1\n",
              "1215.0      1\n",
              "2009.0      1\n",
              "3864.0      1\n",
              "1288.0      1\n",
              "1691.0      1\n",
              "2205.0      1\n",
              "1448.0      1\n",
              "1887.0      1\n",
              "2546.0      1\n",
              "Name: total_bedrooms, Length: 1924, dtype: int64"
            ]
          },
          "metadata": {
            "tags": []
          },
          "execution_count": 17
        }
      ]
    },
    {
      "cell_type": "markdown",
      "metadata": {
        "id": "Ajz4VyO3rYSG",
        "colab_type": "text"
      },
      "source": [
        "There are 207 missing values which is quite significant. I will fill the missing values using the median value in the total_beadroom column"
      ]
    },
    {
      "cell_type": "code",
      "metadata": {
        "id": "VGC0cjharxcO",
        "colab_type": "code",
        "colab": {}
      },
      "source": [
        "final_housing['total_bedrooms'].fillna(final_housing['total_bedrooms'].median(), inplace = True)"
      ],
      "execution_count": 0,
      "outputs": []
    },
    {
      "cell_type": "code",
      "metadata": {
        "id": "BxDG7Vods4xn",
        "colab_type": "code",
        "colab": {}
      },
      "source": [
        "final_housing['total_bedrooms'].value_counts()"
      ],
      "execution_count": 0,
      "outputs": []
    },
    {
      "cell_type": "markdown",
      "metadata": {
        "id": "18VTW3soS6qg",
        "colab_type": "text"
      },
      "source": [
        "Preprocess the columns"
      ]
    },
    {
      "cell_type": "code",
      "metadata": {
        "id": "FpgLnBVOQ243",
        "colab_type": "code",
        "colab": {}
      },
      "source": [
        "final_housing['longitude'].value_counts()"
      ],
      "execution_count": 0,
      "outputs": []
    },
    {
      "cell_type": "code",
      "metadata": {
        "id": "UfeHgZqGT5PU",
        "colab_type": "code",
        "colab": {}
      },
      "source": [
        "final_housing['latitude'].describe()"
      ],
      "execution_count": 0,
      "outputs": []
    },
    {
      "cell_type": "code",
      "metadata": {
        "id": "j7XG4dA-X0GJ",
        "colab_type": "code",
        "colab": {}
      },
      "source": [
        "final_housing['housing_median_age'].describe()"
      ],
      "execution_count": 0,
      "outputs": []
    },
    {
      "cell_type": "code",
      "metadata": {
        "id": "UjIXbHIjaBeK",
        "colab_type": "code",
        "colab": {}
      },
      "source": [
        "final_housing.drop('ocean_proximity', axis = 1, inplace = True)"
      ],
      "execution_count": 0,
      "outputs": []
    },
    {
      "cell_type": "code",
      "metadata": {
        "id": "75_VEvRyiT3h",
        "colab_type": "code",
        "colab": {
          "base_uri": "https://localhost:8080/",
          "height": 1000
        },
        "outputId": "b3f203bd-fb29-42e1-c67c-522144236ce4"
      },
      "source": [
        "final_housing['median_house_value'].value_counts()"
      ],
      "execution_count": 20,
      "outputs": [
        {
          "output_type": "execute_result",
          "data": {
            "text/plain": [
              "500001.0    965\n",
              "137500.0    122\n",
              "162500.0    117\n",
              "112500.0    103\n",
              "187500.0     93\n",
              "225000.0     92\n",
              "350000.0     79\n",
              "87500.0      78\n",
              "275000.0     65\n",
              "150000.0     64\n",
              "175000.0     63\n",
              "100000.0     62\n",
              "125000.0     56\n",
              "67500.0      55\n",
              "250000.0     47\n",
              "200000.0     46\n",
              "118800.0     39\n",
              "450000.0     37\n",
              "156300.0     35\n",
              "212500.0     33\n",
              "193800.0     31\n",
              "181300.0     31\n",
              "300000.0     30\n",
              "75000.0      30\n",
              "81300.0      29\n",
              "55000.0      29\n",
              "93800.0      29\n",
              "106300.0     28\n",
              "143800.0     28\n",
              "400000.0     27\n",
              "           ... \n",
              "373500.0      1\n",
              "433000.0      1\n",
              "354600.0      1\n",
              "389700.0      1\n",
              "370100.0      1\n",
              "304200.0      1\n",
              "477200.0      1\n",
              "422500.0      1\n",
              "445900.0      1\n",
              "309000.0      1\n",
              "413100.0      1\n",
              "465700.0      1\n",
              "353700.0      1\n",
              "438900.0      1\n",
              "396700.0      1\n",
              "380300.0      1\n",
              "478500.0      1\n",
              "455300.0      1\n",
              "403000.0      1\n",
              "363900.0      1\n",
              "494400.0      1\n",
              "389800.0      1\n",
              "347500.0      1\n",
              "487000.0      1\n",
              "331100.0      1\n",
              "303200.0      1\n",
              "307900.0      1\n",
              "383200.0      1\n",
              "360800.0      1\n",
              "405500.0      1\n",
              "Name: median_house_value, Length: 3842, dtype: int64"
            ]
          },
          "metadata": {
            "tags": []
          },
          "execution_count": 20
        }
      ]
    },
    {
      "cell_type": "code",
      "metadata": {
        "id": "KBytHtVWhoci",
        "colab_type": "code",
        "colab": {}
      },
      "source": [
        "X = final_housing.drop('median_house_value', axis = 1)\n",
        "y = final_housing['median_house_value']"
      ],
      "execution_count": 0,
      "outputs": []
    },
    {
      "cell_type": "markdown",
      "metadata": {
        "id": "YN_ZpwI3zmGM",
        "colab_type": "text"
      },
      "source": [
        ""
      ]
    },
    {
      "cell_type": "code",
      "metadata": {
        "id": "FHYATvmy5m6b",
        "colab_type": "code",
        "colab": {}
      },
      "source": [
        "X.head()"
      ],
      "execution_count": 0,
      "outputs": []
    },
    {
      "cell_type": "code",
      "metadata": {
        "id": "U6mG6JyJ0GXg",
        "colab_type": "code",
        "colab": {}
      },
      "source": [
        "X.info()\n"
      ],
      "execution_count": 0,
      "outputs": []
    },
    {
      "cell_type": "markdown",
      "metadata": {
        "id": "Tn6udaYlfmyO",
        "colab_type": "text"
      },
      "source": [
        "Import the needed modules"
      ]
    },
    {
      "cell_type": "code",
      "metadata": {
        "id": "lr-znwMVBZWU",
        "colab_type": "code",
        "colab": {}
      },
      "source": [
        "from sklearn.model_selection import train_test_split\n",
        "from sklearn.preprocessing import StandardScaler\n",
        "from sklearn.linear_model import LinearRegression\n",
        "from sklearn.preprocessing import PolynomialFeatures\n",
        "from sklearn.linear_model import Ridge\n",
        "from sklearn.linear_model import Lasso"
      ],
      "execution_count": 0,
      "outputs": []
    },
    {
      "cell_type": "code",
      "metadata": {
        "id": "1TcVx9OkslhE",
        "colab_type": "code",
        "colab": {}
      },
      "source": [
        "X_train, X_test, y_train, y_test = train_test_split(X, y, random_state = 0) \n"
      ],
      "execution_count": 0,
      "outputs": []
    },
    {
      "cell_type": "markdown",
      "metadata": {
        "id": "koSxFw32jPdx",
        "colab_type": "text"
      },
      "source": [
        "Scale the data"
      ]
    },
    {
      "cell_type": "code",
      "metadata": {
        "id": "8GIyNgrzjNrX",
        "colab_type": "code",
        "colab": {}
      },
      "source": [
        "scaler = StandardScaler()\n",
        "XTrain_scaled = scaler.fit_transform(X_train)\n",
        "XTest_scaled = scaler.transform(X_test)"
      ],
      "execution_count": 0,
      "outputs": []
    },
    {
      "cell_type": "markdown",
      "metadata": {
        "id": "Lshk7T0VhPct",
        "colab_type": "text"
      },
      "source": [
        "Implement Linear Regression"
      ]
    },
    {
      "cell_type": "code",
      "metadata": {
        "id": "Wo3E5bjN8L4K",
        "colab_type": "code",
        "outputId": "b01134d3-5044-46f2-d1cd-cbc0b055d358",
        "colab": {
          "base_uri": "https://localhost:8080/",
          "height": 35
        }
      },
      "source": [
        "lr =  LinearRegression()\n",
        "lr.fit(XTrain_scaled,y_train)"
      ],
      "execution_count": 28,
      "outputs": [
        {
          "output_type": "execute_result",
          "data": {
            "text/plain": [
              "LinearRegression(copy_X=True, fit_intercept=True, n_jobs=None, normalize=False)"
            ]
          },
          "metadata": {
            "tags": []
          },
          "execution_count": 28
        }
      ]
    },
    {
      "cell_type": "code",
      "metadata": {
        "id": "FPAhzBut8WVV",
        "colab_type": "code",
        "outputId": "1648760a-df1b-45d7-fe57-98d81b4d024e",
        "colab": {
          "base_uri": "https://localhost:8080/",
          "height": 35
        }
      },
      "source": [
        "lr.score(XTrain_scaled, y_train)"
      ],
      "execution_count": 29,
      "outputs": [
        {
          "output_type": "execute_result",
          "data": {
            "text/plain": [
              "0.6386174149948768"
            ]
          },
          "metadata": {
            "tags": []
          },
          "execution_count": 29
        }
      ]
    },
    {
      "cell_type": "code",
      "metadata": {
        "id": "oi6n3rj98b4V",
        "colab_type": "code",
        "outputId": "5027398a-aeab-485e-8e03-df630d9fc7a7",
        "colab": {
          "base_uri": "https://localhost:8080/",
          "height": 35
        }
      },
      "source": [
        "lr.score(XTest_scaled, y_test)"
      ],
      "execution_count": 30,
      "outputs": [
        {
          "output_type": "execute_result",
          "data": {
            "text/plain": [
              "0.625834759675782"
            ]
          },
          "metadata": {
            "tags": []
          },
          "execution_count": 30
        }
      ]
    },
    {
      "cell_type": "code",
      "metadata": {
        "id": "FR_rdH91uK1T",
        "colab_type": "code",
        "colab": {}
      },
      "source": [
        "ri = Ridge()"
      ],
      "execution_count": 0,
      "outputs": []
    },
    {
      "cell_type": "code",
      "metadata": {
        "id": "WreKwo_iuaVq",
        "colab_type": "code",
        "outputId": "e9d05e5b-df40-4cd6-d987-95a5f0648c83",
        "colab": {
          "base_uri": "https://localhost:8080/",
          "height": 54
        }
      },
      "source": [
        "ri.fit(XTrain_scaled,y_train)"
      ],
      "execution_count": 0,
      "outputs": [
        {
          "output_type": "execute_result",
          "data": {
            "text/plain": [
              "Ridge(alpha=1.0, copy_X=True, fit_intercept=True, max_iter=None,\n",
              "      normalize=False, random_state=None, solver='auto', tol=0.001)"
            ]
          },
          "metadata": {
            "tags": []
          },
          "execution_count": 32
        }
      ]
    },
    {
      "cell_type": "code",
      "metadata": {
        "id": "cxzQShp7ulnZ",
        "colab_type": "code",
        "outputId": "f70b98af-4441-414e-90c9-4756b849d6d1",
        "colab": {
          "base_uri": "https://localhost:8080/",
          "height": 35
        }
      },
      "source": [
        "ri.score(XTrain_scaled,y_train)"
      ],
      "execution_count": 0,
      "outputs": [
        {
          "output_type": "execute_result",
          "data": {
            "text/plain": [
              "0.6386173352454366"
            ]
          },
          "metadata": {
            "tags": []
          },
          "execution_count": 33
        }
      ]
    },
    {
      "cell_type": "code",
      "metadata": {
        "id": "p27YtRcRuyTT",
        "colab_type": "code",
        "outputId": "4bb24e21-b26a-4d58-bbc8-2fb80ffd7fc3",
        "colab": {
          "base_uri": "https://localhost:8080/",
          "height": 35
        }
      },
      "source": [
        "ri.score(XTest_scaled,y_test)"
      ],
      "execution_count": 0,
      "outputs": [
        {
          "output_type": "execute_result",
          "data": {
            "text/plain": [
              "0.6258276733020272"
            ]
          },
          "metadata": {
            "tags": []
          },
          "execution_count": 34
        }
      ]
    },
    {
      "cell_type": "code",
      "metadata": {
        "id": "qTRFSG_ru7EN",
        "colab_type": "code",
        "outputId": "16568e53-97c0-462b-cd3b-046263a7dccc",
        "colab": {
          "base_uri": "https://localhost:8080/",
          "height": 72
        }
      },
      "source": [
        "la = Lasso()\n",
        "la.fit(XTrain_scaled, y_train)"
      ],
      "execution_count": 0,
      "outputs": [
        {
          "output_type": "execute_result",
          "data": {
            "text/plain": [
              "Lasso(alpha=1.0, copy_X=True, fit_intercept=True, max_iter=1000,\n",
              "      normalize=False, positive=False, precompute=False, random_state=None,\n",
              "      selection='cyclic', tol=0.0001, warm_start=False)"
            ]
          },
          "metadata": {
            "tags": []
          },
          "execution_count": 35
        }
      ]
    },
    {
      "cell_type": "code",
      "metadata": {
        "id": "dsdvmeILvPNU",
        "colab_type": "code",
        "outputId": "0399b699-f001-4b0d-bdc5-680b8e00abe3",
        "colab": {
          "base_uri": "https://localhost:8080/",
          "height": 35
        }
      },
      "source": [
        "la.score(XTrain_scaled, y_train)"
      ],
      "execution_count": 0,
      "outputs": [
        {
          "output_type": "execute_result",
          "data": {
            "text/plain": [
              "0.6386174095728411"
            ]
          },
          "metadata": {
            "tags": []
          },
          "execution_count": 36
        }
      ]
    },
    {
      "cell_type": "code",
      "metadata": {
        "id": "UZhYEhMVvVUh",
        "colab_type": "code",
        "outputId": "5f8793e1-0e59-4a19-b621-c1f89e5104cb",
        "colab": {
          "base_uri": "https://localhost:8080/",
          "height": 35
        }
      },
      "source": [
        "la.score(XTest_scaled, y_test)"
      ],
      "execution_count": 0,
      "outputs": [
        {
          "output_type": "execute_result",
          "data": {
            "text/plain": [
              "0.6258325066181337"
            ]
          },
          "metadata": {
            "tags": []
          },
          "execution_count": 38
        }
      ]
    },
    {
      "cell_type": "code",
      "metadata": {
        "id": "PsnzJePC6BVp",
        "colab_type": "code",
        "colab": {}
      },
      "source": [
        "polynomial_features= PolynomialFeatures(degree = 3)\n",
        "x_train = polynomial_features.fit_transform(XTrain_scaled)\n",
        "x_test = polynomial_features.transform(XTest_scaled)"
      ],
      "execution_count": 0,
      "outputs": []
    },
    {
      "cell_type": "code",
      "metadata": {
        "id": "xqCsyuCAFX7K",
        "colab_type": "code",
        "outputId": "ef38e109-c2f5-43ad-a784-008306c62d50",
        "colab": {
          "base_uri": "https://localhost:8080/",
          "height": 35
        }
      },
      "source": [
        "lr.fit(x_train, y_train)"
      ],
      "execution_count": 37,
      "outputs": [
        {
          "output_type": "execute_result",
          "data": {
            "text/plain": [
              "LinearRegression(copy_X=True, fit_intercept=True, n_jobs=None, normalize=False)"
            ]
          },
          "metadata": {
            "tags": []
          },
          "execution_count": 37
        }
      ]
    },
    {
      "cell_type": "code",
      "metadata": {
        "id": "I9X3qCB-BJRT",
        "colab_type": "code",
        "outputId": "5d6bd8b0-f7ce-4b29-aea9-c3a639551b8b",
        "colab": {
          "base_uri": "https://localhost:8080/",
          "height": 35
        }
      },
      "source": [
        "lr.score(x_train, y_train)"
      ],
      "execution_count": 38,
      "outputs": [
        {
          "output_type": "execute_result",
          "data": {
            "text/plain": [
              "0.7407055037928293"
            ]
          },
          "metadata": {
            "tags": []
          },
          "execution_count": 38
        }
      ]
    },
    {
      "cell_type": "code",
      "metadata": {
        "id": "ONtu7WozBO8B",
        "colab_type": "code",
        "outputId": "2bd41e7d-4fe4-4e76-ed71-524fc9c40930",
        "colab": {
          "base_uri": "https://localhost:8080/",
          "height": 35
        }
      },
      "source": [
        "lr.score(x_test, y_test)"
      ],
      "execution_count": 39,
      "outputs": [
        {
          "output_type": "execute_result",
          "data": {
            "text/plain": [
              "0.6761811021164867"
            ]
          },
          "metadata": {
            "tags": []
          },
          "execution_count": 39
        }
      ]
    },
    {
      "cell_type": "code",
      "metadata": {
        "id": "T7Bvr8pLcM-M",
        "colab_type": "code",
        "colab": {
          "base_uri": "https://localhost:8080/",
          "height": 54
        },
        "outputId": "75d13b5e-dd39-43df-d0fa-5bf530b43fba"
      },
      "source": [
        "ri.fit(x_train, y_train)"
      ],
      "execution_count": 40,
      "outputs": [
        {
          "output_type": "execute_result",
          "data": {
            "text/plain": [
              "Ridge(alpha=1.0, copy_X=True, fit_intercept=True, max_iter=None,\n",
              "      normalize=False, random_state=None, solver='auto', tol=0.001)"
            ]
          },
          "metadata": {
            "tags": []
          },
          "execution_count": 40
        }
      ]
    },
    {
      "cell_type": "code",
      "metadata": {
        "id": "L_nMB8IZdnoI",
        "colab_type": "code",
        "colab": {
          "base_uri": "https://localhost:8080/",
          "height": 35
        },
        "outputId": "49fc671d-c379-43cf-e887-410acb9df1d1"
      },
      "source": [
        "ri.score(x_train, y_train)"
      ],
      "execution_count": 41,
      "outputs": [
        {
          "output_type": "execute_result",
          "data": {
            "text/plain": [
              "0.7405583493530259"
            ]
          },
          "metadata": {
            "tags": []
          },
          "execution_count": 41
        }
      ]
    },
    {
      "cell_type": "code",
      "metadata": {
        "id": "WKwg_5NidtNg",
        "colab_type": "code",
        "colab": {
          "base_uri": "https://localhost:8080/",
          "height": 35
        },
        "outputId": "2f65bdae-3f21-4c37-c5bd-1b6380b8e334"
      },
      "source": [
        "ri.score(x_test, y_test)"
      ],
      "execution_count": 42,
      "outputs": [
        {
          "output_type": "execute_result",
          "data": {
            "text/plain": [
              "0.6763783324100713"
            ]
          },
          "metadata": {
            "tags": []
          },
          "execution_count": 42
        }
      ]
    }
  ]
}